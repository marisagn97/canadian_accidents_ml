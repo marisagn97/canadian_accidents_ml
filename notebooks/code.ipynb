{
 "cells": [
  {
   "cell_type": "markdown",
   "metadata": {},
   "source": [
    "### **Repositorio de GitHub:**"
   ]
  },
  {
   "cell_type": "code",
   "execution_count": null,
   "metadata": {},
   "outputs": [],
   "source": []
  },
  {
   "cell_type": "code",
   "execution_count": 12,
   "metadata": {},
   "outputs": [],
   "source": [
    "def auto_report(xtest, ytest, ypred):\n",
    "    \"\"\"Toma datasets de prueba y predicción para hacer un informe con las principales medidas de evaluación del modelo\n",
    "\n",
    "    Args:\n",
    "        xtest ([pandas.DataFrame]): Dataset de validación\n",
    "        ytest ([type]): Valores de la variable dependiente para validación\n",
    "        ypred ([type]): Valores estimados por el modelo\n",
    "    \"\"\"\n",
    "    clf.score(xtest, ytest)\n",
    "    classification_metrics = classification_report(ytest, ypred)\n",
    "    print(classification_metrics)\n",
    "    f1_score = f1_score(ytest, ypred)\n",
    "    print(\"F1:\", f1_score)"
   ]
  },
  {
   "cell_type": "markdown",
   "metadata": {},
   "source": [
    "### Importación de lo necesario"
   ]
  },
  {
   "cell_type": "markdown",
   "metadata": {},
   "source": [
    "Importación de las librerías"
   ]
  },
  {
   "cell_type": "code",
   "execution_count": 4,
   "metadata": {},
   "outputs": [],
   "source": [
    "import pandas as pd\n",
    "import numpy as np\n",
    "import matplotlib.pyplot as plt\n",
    "import seaborn as sns\n",
    "import random\n",
    "import warnings"
   ]
  },
  {
   "cell_type": "code",
   "execution_count": 5,
   "metadata": {},
   "outputs": [],
   "source": [
    "warnings.filterwarnings(\"ignore\")\n",
    "pd.set_option('display.max_rows', 500)\n",
    "pd.set_option('display.max_columns', 500)"
   ]
  },
  {
   "cell_type": "markdown",
   "metadata": {},
   "source": [
    "Importación de datos desde dirección relativa"
   ]
  },
  {
   "cell_type": "code",
   "execution_count": 9,
   "metadata": {},
   "outputs": [
    {
     "data": {
      "text/plain": [
       "(5860405, 22)"
      ]
     },
     "execution_count": 9,
     "metadata": {},
     "output_type": "execute_result"
    }
   ],
   "source": [
    "df_original = pd.read_csv(\"../data/car_accidents_canada.csv\")"
   ]
  },
  {
   "cell_type": "markdown",
   "metadata": {},
   "source": [
    "Una vez cargados los datos, se procede a su limpieza y estudio descriptivo (Wrangling + EDA)"
   ]
  },
  {
   "cell_type": "code",
   "execution_count": 14,
   "metadata": {},
   "outputs": [
    {
     "name": "stdout",
     "output_type": "stream",
     "text": [
      "<class 'pandas.core.frame.DataFrame'>\n",
      "RangeIndex: 5860405 entries, 0 to 5860404\n",
      "Data columns (total 22 columns):\n",
      " #   Column  Dtype \n",
      "---  ------  ----- \n",
      " 0   C_YEAR  int64 \n",
      " 1   C_MNTH  object\n",
      " 2   C_WDAY  object\n",
      " 3   C_HOUR  object\n",
      " 4   C_SEV   int64 \n",
      " 5   C_VEHS  object\n",
      " 6   C_CONF  object\n",
      " 7   C_RCFG  object\n",
      " 8   C_WTHR  object\n",
      " 9   C_RSUR  object\n",
      " 10  C_RALN  object\n",
      " 11  C_TRAF  object\n",
      " 12  V_ID    object\n",
      " 13  V_TYPE  object\n",
      " 14  V_YEAR  object\n",
      " 15  P_ID    object\n",
      " 16  P_SEX   object\n",
      " 17  P_AGE   object\n",
      " 18  P_PSN   object\n",
      " 19  P_ISEV  object\n",
      " 20  P_SAFE  object\n",
      " 21  P_USER  object\n",
      "dtypes: int64(2), object(20)\n",
      "memory usage: 983.6+ MB\n"
     ]
    }
   ],
   "source": [
    "df_original.info()"
   ]
  },
  {
   "cell_type": "code",
   "execution_count": 8,
   "metadata": {},
   "outputs": [
    {
     "data": {
      "text/html": [
       "<div>\n",
       "<style scoped>\n",
       "    .dataframe tbody tr th:only-of-type {\n",
       "        vertical-align: middle;\n",
       "    }\n",
       "\n",
       "    .dataframe tbody tr th {\n",
       "        vertical-align: top;\n",
       "    }\n",
       "\n",
       "    .dataframe thead th {\n",
       "        text-align: right;\n",
       "    }\n",
       "</style>\n",
       "<table border=\"1\" class=\"dataframe\">\n",
       "  <thead>\n",
       "    <tr style=\"text-align: right;\">\n",
       "      <th></th>\n",
       "      <th>C_YEAR</th>\n",
       "      <th>C_MNTH</th>\n",
       "      <th>C_WDAY</th>\n",
       "      <th>C_HOUR</th>\n",
       "      <th>C_SEV</th>\n",
       "      <th>C_VEHS</th>\n",
       "      <th>C_CONF</th>\n",
       "      <th>C_RCFG</th>\n",
       "      <th>C_WTHR</th>\n",
       "      <th>C_RSUR</th>\n",
       "      <th>C_RALN</th>\n",
       "      <th>C_TRAF</th>\n",
       "      <th>V_ID</th>\n",
       "      <th>V_TYPE</th>\n",
       "      <th>V_YEAR</th>\n",
       "      <th>P_ID</th>\n",
       "      <th>P_SEX</th>\n",
       "      <th>P_AGE</th>\n",
       "      <th>P_PSN</th>\n",
       "      <th>P_ISEV</th>\n",
       "      <th>P_SAFE</th>\n",
       "      <th>P_USER</th>\n",
       "    </tr>\n",
       "  </thead>\n",
       "  <tbody>\n",
       "    <tr>\n",
       "      <th>0</th>\n",
       "      <td>1999</td>\n",
       "      <td>1</td>\n",
       "      <td>1</td>\n",
       "      <td>20</td>\n",
       "      <td>2</td>\n",
       "      <td>02</td>\n",
       "      <td>34</td>\n",
       "      <td>UU</td>\n",
       "      <td>1</td>\n",
       "      <td>5</td>\n",
       "      <td>3</td>\n",
       "      <td>03</td>\n",
       "      <td>01</td>\n",
       "      <td>06</td>\n",
       "      <td>1990</td>\n",
       "      <td>01</td>\n",
       "      <td>M</td>\n",
       "      <td>41</td>\n",
       "      <td>11</td>\n",
       "      <td>1</td>\n",
       "      <td>UU</td>\n",
       "      <td>1</td>\n",
       "    </tr>\n",
       "    <tr>\n",
       "      <th>1</th>\n",
       "      <td>1999</td>\n",
       "      <td>1</td>\n",
       "      <td>1</td>\n",
       "      <td>20</td>\n",
       "      <td>2</td>\n",
       "      <td>02</td>\n",
       "      <td>34</td>\n",
       "      <td>UU</td>\n",
       "      <td>1</td>\n",
       "      <td>5</td>\n",
       "      <td>3</td>\n",
       "      <td>03</td>\n",
       "      <td>02</td>\n",
       "      <td>01</td>\n",
       "      <td>1987</td>\n",
       "      <td>01</td>\n",
       "      <td>M</td>\n",
       "      <td>19</td>\n",
       "      <td>11</td>\n",
       "      <td>1</td>\n",
       "      <td>UU</td>\n",
       "      <td>1</td>\n",
       "    </tr>\n",
       "    <tr>\n",
       "      <th>2</th>\n",
       "      <td>1999</td>\n",
       "      <td>1</td>\n",
       "      <td>1</td>\n",
       "      <td>20</td>\n",
       "      <td>2</td>\n",
       "      <td>02</td>\n",
       "      <td>34</td>\n",
       "      <td>UU</td>\n",
       "      <td>1</td>\n",
       "      <td>5</td>\n",
       "      <td>3</td>\n",
       "      <td>03</td>\n",
       "      <td>02</td>\n",
       "      <td>01</td>\n",
       "      <td>1987</td>\n",
       "      <td>02</td>\n",
       "      <td>F</td>\n",
       "      <td>20</td>\n",
       "      <td>13</td>\n",
       "      <td>2</td>\n",
       "      <td>02</td>\n",
       "      <td>2</td>\n",
       "    </tr>\n",
       "    <tr>\n",
       "      <th>3</th>\n",
       "      <td>1999</td>\n",
       "      <td>1</td>\n",
       "      <td>1</td>\n",
       "      <td>08</td>\n",
       "      <td>2</td>\n",
       "      <td>01</td>\n",
       "      <td>01</td>\n",
       "      <td>UU</td>\n",
       "      <td>5</td>\n",
       "      <td>3</td>\n",
       "      <td>6</td>\n",
       "      <td>18</td>\n",
       "      <td>01</td>\n",
       "      <td>01</td>\n",
       "      <td>1986</td>\n",
       "      <td>01</td>\n",
       "      <td>M</td>\n",
       "      <td>46</td>\n",
       "      <td>11</td>\n",
       "      <td>1</td>\n",
       "      <td>UU</td>\n",
       "      <td>1</td>\n",
       "    </tr>\n",
       "    <tr>\n",
       "      <th>4</th>\n",
       "      <td>1999</td>\n",
       "      <td>1</td>\n",
       "      <td>1</td>\n",
       "      <td>08</td>\n",
       "      <td>2</td>\n",
       "      <td>01</td>\n",
       "      <td>01</td>\n",
       "      <td>UU</td>\n",
       "      <td>5</td>\n",
       "      <td>3</td>\n",
       "      <td>6</td>\n",
       "      <td>18</td>\n",
       "      <td>99</td>\n",
       "      <td>NN</td>\n",
       "      <td>NNNN</td>\n",
       "      <td>01</td>\n",
       "      <td>M</td>\n",
       "      <td>05</td>\n",
       "      <td>99</td>\n",
       "      <td>2</td>\n",
       "      <td>UU</td>\n",
       "      <td>3</td>\n",
       "    </tr>\n",
       "  </tbody>\n",
       "</table>\n",
       "</div>"
      ],
      "text/plain": [
       "   C_YEAR C_MNTH C_WDAY C_HOUR  C_SEV C_VEHS C_CONF C_RCFG C_WTHR C_RSUR  \\\n",
       "0    1999      1      1     20      2     02     34     UU      1      5   \n",
       "1    1999      1      1     20      2     02     34     UU      1      5   \n",
       "2    1999      1      1     20      2     02     34     UU      1      5   \n",
       "3    1999      1      1     08      2     01     01     UU      5      3   \n",
       "4    1999      1      1     08      2     01     01     UU      5      3   \n",
       "\n",
       "  C_RALN C_TRAF V_ID V_TYPE V_YEAR P_ID P_SEX P_AGE P_PSN P_ISEV P_SAFE P_USER  \n",
       "0      3     03   01     06   1990   01     M    41    11      1     UU      1  \n",
       "1      3     03   02     01   1987   01     M    19    11      1     UU      1  \n",
       "2      3     03   02     01   1987   02     F    20    13      2     02      2  \n",
       "3      6     18   01     01   1986   01     M    46    11      1     UU      1  \n",
       "4      6     18   99     NN   NNNN   01     M    05    99      2     UU      3  "
      ]
     },
     "execution_count": 8,
     "metadata": {},
     "output_type": "execute_result"
    }
   ],
   "source": [
    "df_original.head()"
   ]
  },
  {
   "cell_type": "markdown",
   "metadata": {},
   "source": [
    "## **Análisis exploratorio-descriptivo (EDA)**"
   ]
  },
  {
   "cell_type": "code",
   "execution_count": 24,
   "metadata": {},
   "outputs": [],
   "source": [
    "def cramers_v(x, y):\n",
    "    confusion_matrix = pd.crosstab(x,y)\n",
    "    chi2 = ss.chi2_contingency(confusion_matrix)[0]\n",
    "    n = confusion_matrix.sum().sum()\n",
    "    phi2 = chi2/n\n",
    "    r,k = confusion_matrix.shape\n",
    "    phi2corr = max(0, phi2-((k-1)*(r-1))/(n-1))\n",
    "    rcorr = r-((r-1)**2)/(n-1)\n",
    "    kcorr = k-((k-1)**2)/(n-1)\n",
    "    return np.sqrt(phi2corr/min((kcorr-1),(rcorr-1)))\n",
    "\n",
    "cramers_v()"
   ]
  }
 ],
 "metadata": {
  "interpreter": {
   "hash": "48af2af08e69c462d346d2250c028349b423e3d26804417ec43b9f2cf8e02509"
  },
  "kernelspec": {
   "display_name": "Python 3.8.8 64-bit ('base': conda)",
   "language": "python",
   "name": "python3"
  },
  "language_info": {
   "codemirror_mode": {
    "name": "ipython",
    "version": 3
   },
   "file_extension": ".py",
   "mimetype": "text/x-python",
   "name": "python",
   "nbconvert_exporter": "python",
   "pygments_lexer": "ipython3",
   "version": "3.8.8"
  },
  "orig_nbformat": 4
 },
 "nbformat": 4,
 "nbformat_minor": 2
}
